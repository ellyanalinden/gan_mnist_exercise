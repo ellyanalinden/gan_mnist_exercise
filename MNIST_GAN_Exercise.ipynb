{
 "cells": [
  {
   "cell_type": "markdown",
   "metadata": {},
   "source": [
    "# Generative Adversarial Network\n",
    "\n",
    "In this notebook, we'll be building a generative adversarial network (GAN) trained on the MNIST dataset. From this, we'll be able to generate new handwritten digits!\n",
    "\n",
    "GANs were [first reported on](https://arxiv.org/abs/1406.2661) in 2014 from Ian Goodfellow and others in Yoshua Bengio's lab. Since then, GANs have exploded in popularity. Here are a few examples to check out:\n",
    "\n",
    "* [Pix2Pix](https://affinelayer.com/pixsrv/) \n",
    "* [CycleGAN & Pix2Pix in PyTorch, Jun-Yan Zhu](https://github.com/junyanz/pytorch-CycleGAN-and-pix2pix)\n",
    "* [A list of generative models](https://github.com/wiseodd/generative-models)\n",
    "\n",
    "The idea behind GANs is that you have two networks, a generator $G$ and a discriminator $D$, competing against each other. The generator makes \"fake\" data to pass to the discriminator. The discriminator also sees real training data and predicts if the data it's received is real or fake. \n",
    "> * The generator is trained to fool the discriminator, it wants to output data that looks _as close as possible_ to real, training data. \n",
    "* The discriminator is a classifier that is trained to figure out which data is real and which is fake. \n",
    "\n",
    "What ends up happening is that the generator learns to make data that is indistinguishable from real data to the discriminator.\n",
    "\n",
    "<img src='assets/gan_pipeline.png' width=70% />\n",
    "\n",
    "The general structure of a GAN is shown in the diagram above, using MNIST images as data. The latent sample is a random vector that the generator uses to construct its fake images. This is often called a **latent vector** and that vector space is called **latent space**. As the generator trains, it figures out how to map latent vectors to recognizable images that can fool the discriminator.\n",
    "\n",
    "If you're interested in generating only new images, you can throw out the discriminator after training. In this notebook, I'll show you how to define and train these adversarial networks in PyTorch and generate new images!"
   ]
  },
  {
   "cell_type": "code",
   "execution_count": 1,
   "metadata": {},
   "outputs": [],
   "source": [
    "%matplotlib inline\n",
    "\n",
    "import numpy as np\n",
    "import torch\n",
    "import matplotlib.pyplot as plt"
   ]
  },
  {
   "cell_type": "code",
   "execution_count": 2,
   "metadata": {},
   "outputs": [],
   "source": [
    "from torchvision import datasets\n",
    "import torchvision.transforms as transforms\n",
    "\n",
    "# number of subprocesses to use for data loading\n",
    "num_workers = 0\n",
    "# how many samples per batch to load\n",
    "batch_size = 64\n",
    "\n",
    "# convert data to torch.FloatTensor\n",
    "transform = transforms.ToTensor()\n",
    "\n",
    "# get the training datasets\n",
    "train_data = datasets.MNIST(root='data', train=True,\n",
    "                                   download=True, transform=transform)\n",
    "\n",
    "# prepare data loader\n",
    "train_loader = torch.utils.data.DataLoader(train_data, batch_size=batch_size,\n",
    "                                           num_workers=num_workers)"
   ]
  },
  {
   "cell_type": "markdown",
   "metadata": {},
   "source": [
    "### Visualize the data"
   ]
  },
  {
   "cell_type": "code",
   "execution_count": 3,
   "metadata": {},
   "outputs": [
    {
     "data": {
      "text/plain": [
       "<matplotlib.image.AxesImage at 0x7fd87a7a6be0>"
      ]
     },
     "execution_count": 3,
     "metadata": {},
     "output_type": "execute_result"
    },
    {
     "data": {
      "image/png": "[encoded data removed]",
      "text/plain": [
       "<matplotlib.figure.Figure at 0x7fd8cf2c4588>"
      ]
     },
     "metadata": {
      "needs_background": "light"
     },
     "output_type": "display_data"
    }
   ],
   "source": [
    "# obtain one batch of training images\n",
    "dataiter = iter(train_loader)\n",
    "images, labels = dataiter.next()\n",
    "images = images.numpy()\n",
    "\n",
    "# get one image from the batch\n",
    "img = np.squeeze(images[0])\n",
    "\n",
    "fig = plt.figure(figsize = (3,3)) \n",
    "ax = fig.add_subplot(111)\n",
    "ax.imshow(img, cmap='gray')"
   ]
  },
  {
   "cell_type": "markdown",
   "metadata": {},
   "source": [
    "---\n",
    "# Define the Model\n",
    "\n",
    "A GAN is comprised of two adversarial networks, a discriminator and a generator."
   ]
  },
  {
   "cell_type": "markdown",
   "metadata": {},
   "source": [
    "## Discriminator\n",
    "\n",
    "The discriminator network is going to be a pretty typical linear classifier. To make this network a universal function approximator, we'll need at least one hidden layer, and these hidden layers should have one key attribute:\n",
    "> All hidden layers will have a [Leaky ReLu](https://pytorch.org/docs/stable/nn.html#torch.nn.LeakyReLU) activation function applied to their outputs.\n",
    "\n",
    "<img src='assets/gan_network.png' width=70% />\n",
    "\n",
    "#### Leaky ReLu\n",
    "\n",
    "We should use a leaky ReLU to allow gradients to flow backwards through the layer unimpeded. A leaky ReLU is like a normal ReLU, except that there is a small non-zero output for negative input values.\n",
    "\n",
    "<img src='assets/leaky_relu.png' width=40% />\n",
    "\n",
    "#### Sigmoid Output\n",
    "\n",
    "We'll also take the approach of using a more numerically stable loss function on the outputs. Recall that we want the discriminator to output a value 0-1 indicating whether an image is _real or fake_. \n",
    "> We will ultimately use [BCEWithLogitsLoss](https://pytorch.org/docs/stable/nn.html#bcewithlogitsloss), which combines a `sigmoid` activation function **and** and binary cross entropy loss in one function. \n",
    "\n",
    "So, our final output layer should not have any activation function applied to it."
   ]
  },
  {
   "cell_type": "code",
   "execution_count": 22,
   "metadata": {},
   "outputs": [],
   "source": [
    "import torch.nn as nn\n",
    "import torch.nn.functional as F\n",
    "\n",
    "class Discriminator(nn.Module):\n",
    "\n",
    "    def __init__(self, input_size, hidden_dim, output_size):\n",
    "        super(Discriminator, self).__init__()\n",
    "        \n",
    "        # define all layers\n",
    "        # define 3 hidden linear layers\n",
    "        self.fc1 = nn.Linear(input_size, hidden_dim*4)\n",
    "        self.fc2 = nn.Linear(hidden_dim*4, hidden_dim*2)\n",
    "        self.fc3 = nn.Linear(hidden_dim*2, hidden_dim)\n",
    "        \n",
    "        # define final fully connected layer\n",
    "        self.fc4 = nn.Linear(hidden_dim, output_size)\n",
    "        \n",
    "        # dropout layer\n",
    "        self.dropout = nn.Dropout(0.2)\n",
    "        \n",
    "    def forward(self, x):\n",
    "        # flatten image\n",
    "        x = x.view(-1, 28*28)\n",
    "        # pass x through all layers\n",
    "        # apply leaky relu activation to all hidden layers\n",
    "        # leaky relu is a way of reducing the size of any negative outputs by multiplying them by some negative slope\n",
    "        x = F.leaky_relu(self.fc1(x), 0.2) #(input, negative_slope=0.2)\n",
    "        x = self.dropout(x)\n",
    "        x = F.leaky_relu(self.fc2(x), 0.2)\n",
    "        x = self.dropout(x)\n",
    "        x = F.leaky_relu(self.fc3(x), 0.2)\n",
    "        x = self.dropout(x)\n",
    "        # final layer\n",
    "        # no activation fc, we'll use BCEWithLogitsLoss\n",
    "        out = self.fc4(x)\n",
    "\n",
    "        return out\n"
   ]
  },
  {
   "cell_type": "markdown",
   "metadata": {},
   "source": [
    "## Generator\n",
    "\n",
    "The generator network will be almost exactly the same as the discriminator network, except that we're applying a [tanh activation function](https://pytorch.org/docs/stable/nn.html#tanh) to our output layer.\n",
    "\n",
    "#### tanh Output\n",
    "The generator has been found to perform the best with $tanh$ for the generator output, which scales the output to be between -1 and 1, instead of 0 and 1. \n",
    "\n",
    "<img src='assets/tanh_fn.png' width=40% />\n",
    "\n",
    "Recall that we also want these outputs to be comparable to the *real* input pixel values, which are read in as normalized values between 0 and 1. \n",
    "> So, we'll also have to **scale our real input images to have pixel values between -1 and 1** when we train the discriminator. \n",
    "\n",
    "I'll do this in the training loop, later on."
   ]
  },
  {
   "cell_type": "code",
   "execution_count": 23,
   "metadata": {},
   "outputs": [],
   "source": [
    "class Generator(nn.Module):\n",
    "\n",
    "    def __init__(self, input_size, hidden_dim, output_size):\n",
    "        super(Generator, self).__init__()\n",
    "        \n",
    "        # define all layers\n",
    "        # define 3 hidden linear layers\n",
    "        self.fc1 = nn.Linear(input_size, hidden_dim)\n",
    "        self.fc2 = nn.Linear(hidden_dim, hidden_dim*2)\n",
    "        self.fc3 = nn.Linear(hidden_dim*2, hidden_dim*4)\n",
    "        \n",
    "        # define final fully connected layer\n",
    "        self.fc4 = nn.Linear(hidden_dim*4, output_size)\n",
    "        \n",
    "        # dropout layer\n",
    "        self.dropout = nn.Dropout(0.2)\n",
    "\n",
    "    def forward(self, x):\n",
    "        # pass x through all layers\n",
    "        x = F.leaky_relu(self.fc1(x), 0.2) #(input, negative_slope=0.2)\n",
    "        x = self.dropout(x)\n",
    "        x = F.leaky_relu(self.fc2(x), 0.2)\n",
    "        x = self.dropout(x)\n",
    "        x = F.leaky_relu(self.fc3(x), 0.2)\n",
    "        x = self.dropout(x)\n",
    "        # final layer should have tanh applied\n",
    "        out = F.tanh(self.fc4(x))\n",
    "        return out"
   ]
  },
  {
   "cell_type": "markdown",
   "metadata": {},
   "source": [
    "## Model hyperparameters"
   ]
  },
  {
   "cell_type": "code",
   "execution_count": 24,
   "metadata": {},
   "outputs": [],
   "source": [
    "# Discriminator hyperparams\n",
    "\n",
    "# Size of input image to discriminator (28*28)\n",
    "input_size = 784\n",
    "# Size of discriminator output (real or fake)\n",
    "d_output_size = 1\n",
    "# Size of *last* hidden layer in the discriminator\n",
    "d_hidden_size = 32\n",
    "\n",
    "# Generator hyperparams\n",
    "\n",
    "# Size of latent vector to give to generator\n",
    "z_size = 100\n",
    "# Size of discriminator output (generated image)\n",
    "g_output_size = 784\n",
    "# Size of *first* hidden layer in the generator\n",
    "g_hidden_size = 32"
   ]
  },
  {
   "cell_type": "markdown",
   "metadata": {},
   "source": [
    "## Build complete network\n",
    "\n",
    "Now we're instantiating the discriminator and generator from the classes defined above. Make sure you've passed in the correct input arguments."
   ]
  },
  {
   "cell_type": "code",
   "execution_count": 25,
   "metadata": {},
   "outputs": [
    {
     "name": "stdout",
     "output_type": "stream",
     "text": [
      "Discriminator(\n",
      "  (fc1): Linear(in_features=784, out_features=128, bias=True)\n",
      "  (fc2): Linear(in_features=128, out_features=64, bias=True)\n",
      "  (fc3): Linear(in_features=64, out_features=32, bias=True)\n",
      "  (fc4): Linear(in_features=32, out_features=1, bias=True)\n",
      "  (dropout): Dropout(p=0.2)\n",
      ")\n",
      "\n",
      "Generator(\n",
      "  (fc1): Linear(in_features=100, out_features=32, bias=True)\n",
      "  (fc2): Linear(in_features=32, out_features=64, bias=True)\n",
      "  (fc3): Linear(in_features=64, out_features=128, bias=True)\n",
      "  (fc4): Linear(in_features=128, out_features=784, bias=True)\n",
      "  (dropout): Dropout(p=0.2)\n",
      ")\n"
     ]
    }
   ],
   "source": [
    "# instantiate discriminator and generator\n",
    "D = Discriminator(input_size, d_hidden_size, d_output_size)\n",
    "G = Generator(z_size, g_hidden_size, g_output_size)\n",
    "\n",
    "# check that they are as you expect\n",
    "print(D)\n",
    "print()\n",
    "print(G)"
   ]
  },
  {
   "cell_type": "markdown",
   "metadata": {},
   "source": [
    "---\n",
    "## Discriminator and Generator Losses\n",
    "\n",
    "Now we need to calculate the losses. \n",
    "\n",
    "### Discriminator Losses\n",
    "\n",
    "> * For the discriminator, the total loss is the sum of the losses for real and fake images, `d_loss = d_real_loss + d_fake_loss`. \n",
    "* Remember that we want the discriminator to output 1 for real images and 0 for fake images, so we need to set up the losses to reflect that.\n",
    "\n",
    "<img src='assets/gan_pipeline.png' width=70% />\n",
    "\n",
    "The losses will by binary cross entropy loss with logits, which we can get with [BCEWithLogitsLoss](https://pytorch.org/docs/stable/nn.html#bcewithlogitsloss). This combines a `sigmoid` activation function **and** and binary cross entropy loss in one function.\n",
    "\n",
    "For the real images, we want `D(real_images) = 1`. That is, we want the discriminator to classify the the real images with a label = 1, indicating that these are real. To help the discriminator generalize better, the labels are **reduced a bit from 1.0 to 0.9**. For this, we'll use the parameter `smooth`; if True, then we should smooth our labels. In PyTorch, this looks like `labels = torch.ones(size) * 0.9`\n",
    "\n",
    "The discriminator loss for the fake data is similar. We want `D(fake_images) = 0`, where the fake images are the _generator output_, `fake_images = G(z)`. \n",
    "\n",
    "### Generator Loss\n",
    "\n",
    "The generator loss will look similar only with flipped labels. The generator's goal is to get `D(fake_images) = 1`. In this case, the labels are **flipped** to represent that the generator is trying to fool the discriminator into thinking that the images it generates (fakes) are real!"
   ]
  },
  {
   "cell_type": "code",
   "execution_count": 26,
   "metadata": {},
   "outputs": [],
   "source": [
    "# Calculate losses\n",
    "def real_loss(D_out, smooth=False):\n",
    "    # compare logits to real labels\n",
    "    batch_size = D_out.size(0)\n",
    "    # smooth labels if smooth=True\n",
    "    if smooth:\n",
    "        # smooth, real_labels = 0.9\n",
    "        # smoothing aims to make the discriminator numerically stable and to help it generalize better\n",
    "        labels = torch.ones(batch_size)*0.9\n",
    "    else:\n",
    "        labels = torch.ones(batch_size) # real labels =1\n",
    "        \n",
    "    # numerically stable loss\n",
    "    # https://pytorch.org/docs/stable/nn.html#bcewithlogitsloss\n",
    "    criterion = nn.BCEWithLogitsLoss()\n",
    "    # calculate loss\n",
    "    loss = criterion(D_out.squeeze(), labels)\n",
    "    return loss\n",
    "\n",
    "def fake_loss(D_out):\n",
    "    # compare logits to fake labels\n",
    "    batch_size = D_out.size(0)\n",
    "    labels = torch.zeros(batch_size) #fake labels = 0\n",
    "    criterion = nn.BCEWithLogitsLoss()\n",
    "    # calculate loss\n",
    "    loss = criterion(D_out.squeeze(), labels)\n",
    "    return loss"
   ]
  },
  {
   "cell_type": "markdown",
   "metadata": {},
   "source": [
    "## Optimizers\n",
    "\n",
    "We want to update the generator and discriminator variables separately. So, we'll define two separate Adam optimizers."
   ]
  },
  {
   "cell_type": "code",
   "execution_count": 27,
   "metadata": {
    "scrolled": true
   },
   "outputs": [],
   "source": [
    "import torch.optim as optim\n",
    "\n",
    "# learning rate for optimizers\n",
    "lr = 0.002\n",
    "\n",
    "# Create optimizers for the discriminator and generator\n",
    "d_optimizer = optim.Adam(D.parameters(), lr)\n",
    "g_optimizer = optim.Adam(G.parameters(),lr)"
   ]
  },
  {
   "cell_type": "markdown",
   "metadata": {},
   "source": [
    "---\n",
    "## Training\n",
    "\n",
    "Training will involve alternating between training the discriminator and the generator. We'll use our functions `real_loss` and `fake_loss` to help us calculate the discriminator losses in all of the following cases.\n",
    "\n",
    "### Discriminator training\n",
    "1. Compute the discriminator loss on real, training images        \n",
    "2. Generate fake images\n",
    "3. Compute the discriminator loss on fake, generated images     \n",
    "4. Add up real and fake loss\n",
    "5. Perform backpropagation + an optimization step to update the discriminator's weights\n",
    "\n",
    "### Generator training\n",
    "1. Generate fake images\n",
    "2. Compute the discriminator loss on fake images, using **flipped** labels!\n",
    "3. Perform backpropagation + an optimization step to update the generator's weights\n",
    "\n",
    "#### Saving Samples\n",
    "\n",
    "As we train, we'll also print out some loss statistics and save some generated \"fake\" samples."
   ]
  },
  {
   "cell_type": "code",
   "execution_count": 28,
   "metadata": {
    "scrolled": true
   },
   "outputs": [
    {
     "name": "stdout",
     "output_type": "stream",
     "text": [
      "Epoch [    1/  100] | d_loss: 1.3906 | g_loss: 0.6633\n",
      "Epoch [    1/  100] | d_loss: 0.9872 | g_loss: 1.6330\n",
      "Epoch [    1/  100] | d_loss: 1.2703 | g_loss: 2.5398\n",
      "Epoch [    2/  100] | d_loss: 1.2346 | g_loss: 1.3848\n",
      "Epoch [    2/  100] | d_loss: 1.3532 | g_loss: 0.8257\n",
      "Epoch [    2/  100] | d_loss: 0.8086 | g_loss: 2.3678\n",
      "Epoch [    3/  100] | d_loss: 1.2823 | g_loss: 1.2120\n",
      "Epoch [    3/  100] | d_loss: 1.0672 | g_loss: 1.4525\n",
      "Epoch [    3/  100] | d_loss: 1.1373 | g_loss: 1.2333\n",
      "Epoch [    4/  100] | d_loss: 1.2325 | g_loss: 1.0117\n",
      "Epoch [    4/  100] | d_loss: 1.0212 | g_loss: 1.4861\n",
      "Epoch [    4/  100] | d_loss: 0.8780 | g_loss: 1.6572\n",
      "Epoch [    5/  100] | d_loss: 1.3167 | g_loss: 0.7289\n",
      "Epoch [    5/  100] | d_loss: 0.8364 | g_loss: 1.9569\n",
      "Epoch [    5/  100] | d_loss: 1.3001 | g_loss: 4.7742\n",
      "Epoch [    6/  100] | d_loss: 1.1611 | g_loss: 1.1708\n",
      "Epoch [    6/  100] | d_loss: 1.0874 | g_loss: 4.0469\n",
      "Epoch [    6/  100] | d_loss: 1.2202 | g_loss: 1.8339\n",
      "Epoch [    7/  100] | d_loss: 1.0880 | g_loss: 2.4099\n",
      "Epoch [    7/  100] | d_loss: 0.7477 | g_loss: 4.5026\n",
      "Epoch [    7/  100] | d_loss: 0.7820 | g_loss: 6.5083\n",
      "Epoch [    8/  100] | d_loss: 0.7328 | g_loss: 5.7283\n",
      "Epoch [    8/  100] | d_loss: 0.5640 | g_loss: 10.5328\n",
      "Epoch [    8/  100] | d_loss: 0.4686 | g_loss: 12.9268\n",
      "Epoch [    9/  100] | d_loss: 0.4590 | g_loss: 8.7732\n",
      "Epoch [    9/  100] | d_loss: 0.4127 | g_loss: 9.4645\n",
      "Epoch [    9/  100] | d_loss: 0.5493 | g_loss: 7.8349\n",
      "Epoch [   10/  100] | d_loss: 0.6707 | g_loss: 12.9810\n",
      "Epoch [   10/  100] | d_loss: 0.5819 | g_loss: 8.3493\n",
      "Epoch [   10/  100] | d_loss: 0.9887 | g_loss: 2.9055\n",
      "Epoch [   11/  100] | d_loss: 1.1670 | g_loss: 2.8031\n",
      "Epoch [   11/  100] | d_loss: 0.8189 | g_loss: 2.4784\n",
      "Epoch [   11/  100] | d_loss: 1.1113 | g_loss: 2.3019\n",
      "Epoch [   12/  100] | d_loss: 0.9988 | g_loss: 1.6660\n",
      "Epoch [   12/  100] | d_loss: 0.9552 | g_loss: 2.5946\n",
      "Epoch [   12/  100] | d_loss: 1.2855 | g_loss: 1.0618\n",
      "Epoch [   13/  100] | d_loss: 1.0681 | g_loss: 1.6861\n",
      "Epoch [   13/  100] | d_loss: 1.1205 | g_loss: 1.9269\n",
      "Epoch [   13/  100] | d_loss: 1.2846 | g_loss: 1.5191\n",
      "Epoch [   14/  100] | d_loss: 1.1163 | g_loss: 1.1815\n",
      "Epoch [   14/  100] | d_loss: 1.1750 | g_loss: 1.5275\n",
      "Epoch [   14/  100] | d_loss: 1.3371 | g_loss: 1.1808\n",
      "Epoch [   15/  100] | d_loss: 1.2750 | g_loss: 1.1527\n",
      "Epoch [   15/  100] | d_loss: 1.1003 | g_loss: 1.2502\n",
      "Epoch [   15/  100] | d_loss: 1.2487 | g_loss: 1.6813\n",
      "Epoch [   16/  100] | d_loss: 1.2676 | g_loss: 1.1896\n",
      "Epoch [   16/  100] | d_loss: 1.2214 | g_loss: 1.2281\n",
      "Epoch [   16/  100] | d_loss: 1.2604 | g_loss: 1.2430\n",
      "Epoch [   17/  100] | d_loss: 1.2477 | g_loss: 1.2265\n",
      "Epoch [   17/  100] | d_loss: 1.2598 | g_loss: 1.1130\n",
      "Epoch [   17/  100] | d_loss: 1.2149 | g_loss: 1.1463\n",
      "Epoch [   18/  100] | d_loss: 1.1688 | g_loss: 1.1742\n",
      "Epoch [   18/  100] | d_loss: 1.2190 | g_loss: 0.9261\n",
      "Epoch [   18/  100] | d_loss: 1.3703 | g_loss: 1.1565\n",
      "Epoch [   19/  100] | d_loss: 1.2488 | g_loss: 0.9869\n",
      "Epoch [   19/  100] | d_loss: 1.2588 | g_loss: 1.0746\n",
      "Epoch [   19/  100] | d_loss: 1.3276 | g_loss: 1.1219\n",
      "Epoch [   20/  100] | d_loss: 1.2890 | g_loss: 1.2642\n",
      "Epoch [   20/  100] | d_loss: 1.2015 | g_loss: 1.0293\n",
      "Epoch [   20/  100] | d_loss: 1.3502 | g_loss: 1.1135\n",
      "Epoch [   21/  100] | d_loss: 1.3496 | g_loss: 1.1901\n",
      "Epoch [   21/  100] | d_loss: 1.3416 | g_loss: 1.0623\n",
      "Epoch [   21/  100] | d_loss: 1.3876 | g_loss: 1.1204\n",
      "Epoch [   22/  100] | d_loss: 1.3338 | g_loss: 1.1652\n",
      "Epoch [   22/  100] | d_loss: 1.2073 | g_loss: 1.0394\n",
      "Epoch [   22/  100] | d_loss: 1.1793 | g_loss: 1.2809\n",
      "Epoch [   23/  100] | d_loss: 1.1822 | g_loss: 1.1439\n",
      "Epoch [   23/  100] | d_loss: 1.1846 | g_loss: 0.9380\n",
      "Epoch [   23/  100] | d_loss: 1.2937 | g_loss: 0.9383\n",
      "Epoch [   24/  100] | d_loss: 1.4046 | g_loss: 0.7820\n",
      "Epoch [   24/  100] | d_loss: 1.2382 | g_loss: 1.0657\n",
      "Epoch [   24/  100] | d_loss: 1.2605 | g_loss: 1.3019\n",
      "Epoch [   25/  100] | d_loss: 1.2120 | g_loss: 0.9622\n",
      "Epoch [   25/  100] | d_loss: 1.2520 | g_loss: 0.8909\n",
      "Epoch [   25/  100] | d_loss: 1.5391 | g_loss: 1.1682\n",
      "Epoch [   26/  100] | d_loss: 1.1677 | g_loss: 0.9952\n",
      "Epoch [   26/  100] | d_loss: 1.2001 | g_loss: 1.4241\n",
      "Epoch [   26/  100] | d_loss: 1.2757 | g_loss: 0.9865\n",
      "Epoch [   27/  100] | d_loss: 1.2561 | g_loss: 0.9513\n",
      "Epoch [   27/  100] | d_loss: 1.2773 | g_loss: 1.5634\n",
      "Epoch [   27/  100] | d_loss: 1.4495 | g_loss: 0.8756\n",
      "Epoch [   28/  100] | d_loss: 1.3701 | g_loss: 1.2674\n",
      "Epoch [   28/  100] | d_loss: 1.2070 | g_loss: 0.8826\n",
      "Epoch [   28/  100] | d_loss: 1.2959 | g_loss: 0.9370\n",
      "Epoch [   29/  100] | d_loss: 1.3374 | g_loss: 0.9085\n",
      "Epoch [   29/  100] | d_loss: 1.1809 | g_loss: 1.0488\n",
      "Epoch [   29/  100] | d_loss: 1.4320 | g_loss: 0.9671\n",
      "Epoch [   30/  100] | d_loss: 1.1599 | g_loss: 1.3538\n",
      "Epoch [   30/  100] | d_loss: 1.3100 | g_loss: 0.9506\n",
      "Epoch [   30/  100] | d_loss: 1.3986 | g_loss: 0.8910\n",
      "Epoch [   31/  100] | d_loss: 1.2312 | g_loss: 0.7950\n",
      "Epoch [   31/  100] | d_loss: 1.2257 | g_loss: 1.2183\n",
      "Epoch [   31/  100] | d_loss: 1.3461 | g_loss: 0.9302\n",
      "Epoch [   32/  100] | d_loss: 1.2882 | g_loss: 1.0836\n",
      "Epoch [   32/  100] | d_loss: 1.2223 | g_loss: 1.0500\n",
      "Epoch [   32/  100] | d_loss: 1.2179 | g_loss: 1.1494\n",
      "Epoch [   33/  100] | d_loss: 1.2096 | g_loss: 1.3284\n",
      "Epoch [   33/  100] | d_loss: 1.2039 | g_loss: 0.8840\n",
      "Epoch [   33/  100] | d_loss: 1.2265 | g_loss: 1.5314\n",
      "Epoch [   34/  100] | d_loss: 1.3043 | g_loss: 0.8506\n",
      "Epoch [   34/  100] | d_loss: 1.1509 | g_loss: 1.0843\n",
      "Epoch [   34/  100] | d_loss: 1.1326 | g_loss: 1.5932\n",
      "Epoch [   35/  100] | d_loss: 1.3548 | g_loss: 1.4030\n",
      "Epoch [   35/  100] | d_loss: 1.3156 | g_loss: 1.0161\n",
      "Epoch [   35/  100] | d_loss: 1.4014 | g_loss: 1.1910\n",
      "Epoch [   36/  100] | d_loss: 1.3207 | g_loss: 1.2098\n",
      "Epoch [   36/  100] | d_loss: 1.3660 | g_loss: 1.0418\n",
      "Epoch [   36/  100] | d_loss: 1.3400 | g_loss: 1.3242\n",
      "Epoch [   37/  100] | d_loss: 1.3054 | g_loss: 1.0101\n",
      "Epoch [   37/  100] | d_loss: 1.2305 | g_loss: 1.2091\n",
      "Epoch [   37/  100] | d_loss: 1.3398 | g_loss: 1.1386\n",
      "Epoch [   38/  100] | d_loss: 1.2529 | g_loss: 1.0187\n",
      "Epoch [   38/  100] | d_loss: 1.2553 | g_loss: 0.9897\n",
      "Epoch [   38/  100] | d_loss: 1.3386 | g_loss: 1.0214\n",
      "Epoch [   39/  100] | d_loss: 1.4162 | g_loss: 0.7512\n",
      "Epoch [   39/  100] | d_loss: 1.2418 | g_loss: 1.0025\n",
      "Epoch [   39/  100] | d_loss: 1.3469 | g_loss: 1.0636\n",
      "Epoch [   40/  100] | d_loss: 1.2761 | g_loss: 1.8399\n",
      "Epoch [   40/  100] | d_loss: 1.2405 | g_loss: 0.9430\n",
      "Epoch [   40/  100] | d_loss: 1.4242 | g_loss: 1.2387\n",
      "Epoch [   41/  100] | d_loss: 1.2804 | g_loss: 0.8564\n",
      "Epoch [   41/  100] | d_loss: 1.1118 | g_loss: 1.5133\n",
      "Epoch [   41/  100] | d_loss: 1.1337 | g_loss: 1.2563\n",
      "Epoch [   42/  100] | d_loss: 1.2202 | g_loss: 1.2823\n",
      "Epoch [   42/  100] | d_loss: 1.2571 | g_loss: 0.9712\n",
      "Epoch [   42/  100] | d_loss: 1.4061 | g_loss: 0.9769\n",
      "Epoch [   43/  100] | d_loss: 1.3418 | g_loss: 0.8408\n",
      "Epoch [   43/  100] | d_loss: 1.1957 | g_loss: 0.9893\n",
      "Epoch [   43/  100] | d_loss: 1.2334 | g_loss: 1.1527\n",
      "Epoch [   44/  100] | d_loss: 1.2575 | g_loss: 1.2147\n",
      "Epoch [   44/  100] | d_loss: 1.2176 | g_loss: 1.1085\n",
      "Epoch [   44/  100] | d_loss: 1.3523 | g_loss: 1.0666\n",
      "Epoch [   45/  100] | d_loss: 1.1457 | g_loss: 1.3563\n",
      "Epoch [   45/  100] | d_loss: 1.2879 | g_loss: 1.2441\n",
      "Epoch [   45/  100] | d_loss: 1.2961 | g_loss: 1.2427\n",
      "Epoch [   46/  100] | d_loss: 1.3016 | g_loss: 1.0157\n",
      "Epoch [   46/  100] | d_loss: 1.2461 | g_loss: 1.1015\n",
      "Epoch [   46/  100] | d_loss: 1.2357 | g_loss: 1.0203\n",
      "Epoch [   47/  100] | d_loss: 1.3628 | g_loss: 1.1043\n",
      "Epoch [   47/  100] | d_loss: 1.2286 | g_loss: 1.0688\n",
      "Epoch [   47/  100] | d_loss: 1.5014 | g_loss: 0.9472\n",
      "Epoch [   48/  100] | d_loss: 1.3822 | g_loss: 1.0312\n",
      "Epoch [   48/  100] | d_loss: 1.2336 | g_loss: 0.9120\n",
      "Epoch [   48/  100] | d_loss: 1.3883 | g_loss: 1.0778\n",
      "Epoch [   49/  100] | d_loss: 1.3289 | g_loss: 0.9095\n",
      "Epoch [   49/  100] | d_loss: 1.1871 | g_loss: 1.0098\n",
      "Epoch [   49/  100] | d_loss: 1.4844 | g_loss: 1.0254\n",
      "Epoch [   50/  100] | d_loss: 1.2884 | g_loss: 1.1065\n",
      "Epoch [   50/  100] | d_loss: 1.1516 | g_loss: 1.0982\n",
      "Epoch [   50/  100] | d_loss: 1.2350 | g_loss: 1.2597\n",
      "Epoch [   51/  100] | d_loss: 1.2394 | g_loss: 1.4090\n",
      "Epoch [   51/  100] | d_loss: 1.1528 | g_loss: 0.9968\n",
      "Epoch [   51/  100] | d_loss: 1.3338 | g_loss: 1.2141\n",
      "Epoch [   52/  100] | d_loss: 1.2866 | g_loss: 1.3019\n",
      "Epoch [   52/  100] | d_loss: 1.2318 | g_loss: 0.8746\n",
      "Epoch [   52/  100] | d_loss: 1.3721 | g_loss: 1.0754\n",
      "Epoch [   53/  100] | d_loss: 1.2577 | g_loss: 0.8225\n",
      "Epoch [   53/  100] | d_loss: 1.1315 | g_loss: 1.8384\n",
      "Epoch [   53/  100] | d_loss: 1.3642 | g_loss: 1.0257\n",
      "Epoch [   54/  100] | d_loss: 1.3180 | g_loss: 1.8534\n",
      "Epoch [   54/  100] | d_loss: 1.2998 | g_loss: 1.0113\n",
      "Epoch [   54/  100] | d_loss: 1.3574 | g_loss: 1.4045\n",
      "Epoch [   55/  100] | d_loss: 1.3067 | g_loss: 1.1686\n",
      "Epoch [   55/  100] | d_loss: 1.2918 | g_loss: 1.0500\n",
      "Epoch [   55/  100] | d_loss: 1.3224 | g_loss: 1.1614\n",
      "Epoch [   56/  100] | d_loss: 1.1562 | g_loss: 0.8703\n",
      "Epoch [   56/  100] | d_loss: 1.1701 | g_loss: 1.0069\n",
      "Epoch [   56/  100] | d_loss: 1.4458 | g_loss: 1.1741\n",
      "Epoch [   57/  100] | d_loss: 1.4312 | g_loss: 1.2506\n",
      "Epoch [   57/  100] | d_loss: 1.2311 | g_loss: 1.1892\n",
      "Epoch [   57/  100] | d_loss: 1.5127 | g_loss: 1.2004\n",
      "Epoch [   58/  100] | d_loss: 1.3825 | g_loss: 1.0462\n",
      "Epoch [   58/  100] | d_loss: 1.3224 | g_loss: 1.0593\n",
      "Epoch [   58/  100] | d_loss: 1.4476 | g_loss: 1.2089\n",
      "Epoch [   59/  100] | d_loss: 1.2033 | g_loss: 1.0516\n",
      "Epoch [   59/  100] | d_loss: 1.2492 | g_loss: 1.0597\n",
      "Epoch [   59/  100] | d_loss: 1.4135 | g_loss: 1.0888\n",
      "Epoch [   60/  100] | d_loss: 1.4840 | g_loss: 1.0836\n",
      "Epoch [   60/  100] | d_loss: 1.1528 | g_loss: 1.3554\n",
      "Epoch [   60/  100] | d_loss: 1.3666 | g_loss: 1.0038\n",
      "Epoch [   61/  100] | d_loss: 1.2597 | g_loss: 1.3903\n",
      "Epoch [   61/  100] | d_loss: 1.2237 | g_loss: 0.8812\n",
      "Epoch [   61/  100] | d_loss: 1.3456 | g_loss: 0.9564\n",
      "Epoch [   62/  100] | d_loss: 1.2780 | g_loss: 1.1644\n",
      "Epoch [   62/  100] | d_loss: 1.2240 | g_loss: 0.9121\n",
      "Epoch [   62/  100] | d_loss: 1.3874 | g_loss: 1.0298\n",
      "Epoch [   63/  100] | d_loss: 1.1944 | g_loss: 1.0153\n",
      "Epoch [   63/  100] | d_loss: 1.2678 | g_loss: 1.0875\n",
      "Epoch [   63/  100] | d_loss: 1.3560 | g_loss: 1.0423\n",
      "Epoch [   64/  100] | d_loss: 1.2319 | g_loss: 0.8384\n",
      "Epoch [   64/  100] | d_loss: 1.2379 | g_loss: 1.0107\n",
      "Epoch [   64/  100] | d_loss: 1.4375 | g_loss: 1.2765\n",
      "Epoch [   65/  100] | d_loss: 1.1757 | g_loss: 1.2387\n",
      "Epoch [   65/  100] | d_loss: 1.2595 | g_loss: 0.9818\n",
      "Epoch [   65/  100] | d_loss: 1.3498 | g_loss: 1.0751\n",
      "Epoch [   66/  100] | d_loss: 1.2388 | g_loss: 1.2666\n",
      "Epoch [   66/  100] | d_loss: 1.2282 | g_loss: 1.1553\n",
      "Epoch [   66/  100] | d_loss: 1.3291 | g_loss: 1.1110\n",
      "Epoch [   67/  100] | d_loss: 1.1916 | g_loss: 0.8958\n",
      "Epoch [   67/  100] | d_loss: 1.2424 | g_loss: 1.0729\n",
      "Epoch [   67/  100] | d_loss: 1.3561 | g_loss: 1.6248\n",
      "Epoch [   68/  100] | d_loss: 1.2150 | g_loss: 1.6532\n",
      "Epoch [   68/  100] | d_loss: 1.2586 | g_loss: 1.0242\n",
      "Epoch [   68/  100] | d_loss: 1.3282 | g_loss: 1.0486\n",
      "Epoch [   69/  100] | d_loss: 1.3073 | g_loss: 1.1734\n",
      "Epoch [   69/  100] | d_loss: 1.2697 | g_loss: 1.5586\n",
      "Epoch [   69/  100] | d_loss: 1.4818 | g_loss: 1.1947\n",
      "Epoch [   70/  100] | d_loss: 1.1708 | g_loss: 0.9788\n",
      "Epoch [   70/  100] | d_loss: 1.2612 | g_loss: 1.0023\n",
      "Epoch [   70/  100] | d_loss: 1.3789 | g_loss: 1.1291\n",
      "Epoch [   71/  100] | d_loss: 1.1310 | g_loss: 1.0556\n",
      "Epoch [   71/  100] | d_loss: 1.2317 | g_loss: 1.3902\n",
      "Epoch [   71/  100] | d_loss: 1.2709 | g_loss: 1.1951\n",
      "Epoch [   72/  100] | d_loss: 1.2952 | g_loss: 1.0664\n",
      "Epoch [   72/  100] | d_loss: 1.2417 | g_loss: 1.0348\n",
      "Epoch [   72/  100] | d_loss: 1.1659 | g_loss: 1.2049\n",
      "Epoch [   73/  100] | d_loss: 1.2829 | g_loss: 1.4272\n",
      "Epoch [   73/  100] | d_loss: 1.2210 | g_loss: 1.1416\n",
      "Epoch [   73/  100] | d_loss: 1.3656 | g_loss: 1.3010\n",
      "Epoch [   74/  100] | d_loss: 1.2278 | g_loss: 1.3297\n",
      "Epoch [   74/  100] | d_loss: 1.2124 | g_loss: 1.1682\n",
      "Epoch [   74/  100] | d_loss: 1.4080 | g_loss: 1.2735\n",
      "Epoch [   75/  100] | d_loss: 1.3301 | g_loss: 1.0042\n",
      "Epoch [   75/  100] | d_loss: 1.2002 | g_loss: 1.0315\n",
      "Epoch [   75/  100] | d_loss: 1.3230 | g_loss: 1.0429\n",
      "Epoch [   76/  100] | d_loss: 1.2553 | g_loss: 1.0576\n",
      "Epoch [   76/  100] | d_loss: 1.1959 | g_loss: 0.9872\n",
      "Epoch [   76/  100] | d_loss: 1.3323 | g_loss: 1.0399\n",
      "Epoch [   77/  100] | d_loss: 1.1281 | g_loss: 2.0486\n",
      "Epoch [   77/  100] | d_loss: 1.2003 | g_loss: 1.0443\n",
      "Epoch [   77/  100] | d_loss: 1.3546 | g_loss: 1.0097\n",
      "Epoch [   78/  100] | d_loss: 1.3491 | g_loss: 1.5830\n",
      "Epoch [   78/  100] | d_loss: 1.1317 | g_loss: 1.3078\n",
      "Epoch [   78/  100] | d_loss: 1.3109 | g_loss: 0.9411\n",
      "Epoch [   79/  100] | d_loss: 1.2784 | g_loss: 1.1789\n",
      "Epoch [   79/  100] | d_loss: 1.1370 | g_loss: 1.4500\n",
      "Epoch [   79/  100] | d_loss: 1.3448 | g_loss: 1.0950\n",
      "Epoch [   80/  100] | d_loss: 1.2867 | g_loss: 1.0193\n",
      "Epoch [   80/  100] | d_loss: 1.1329 | g_loss: 1.3722\n",
      "Epoch [   80/  100] | d_loss: 1.3053 | g_loss: 1.1641\n",
      "Epoch [   81/  100] | d_loss: 1.2634 | g_loss: 1.3202\n",
      "Epoch [   81/  100] | d_loss: 1.1610 | g_loss: 1.1209\n",
      "Epoch [   81/  100] | d_loss: 1.4130 | g_loss: 1.0569\n",
      "Epoch [   82/  100] | d_loss: 1.3143 | g_loss: 1.2497\n",
      "Epoch [   82/  100] | d_loss: 1.0747 | g_loss: 1.3605\n",
      "Epoch [   82/  100] | d_loss: 1.4704 | g_loss: 1.1117\n",
      "Epoch [   83/  100] | d_loss: 1.2919 | g_loss: 1.1971\n",
      "Epoch [   83/  100] | d_loss: 1.1874 | g_loss: 1.3667\n",
      "Epoch [   83/  100] | d_loss: 1.4072 | g_loss: 1.0654\n",
      "Epoch [   84/  100] | d_loss: 1.2683 | g_loss: 1.2834\n",
      "Epoch [   84/  100] | d_loss: 1.3095 | g_loss: 1.0948\n",
      "Epoch [   84/  100] | d_loss: 1.4156 | g_loss: 1.2123\n",
      "Epoch [   85/  100] | d_loss: 1.2522 | g_loss: 0.9450\n",
      "Epoch [   85/  100] | d_loss: 1.0989 | g_loss: 1.1381\n",
      "Epoch [   85/  100] | d_loss: 1.2186 | g_loss: 1.2120\n",
      "Epoch [   86/  100] | d_loss: 1.2215 | g_loss: 0.8892\n",
      "Epoch [   86/  100] | d_loss: 1.0674 | g_loss: 1.3113\n",
      "Epoch [   86/  100] | d_loss: 1.3421 | g_loss: 1.1084\n",
      "Epoch [   87/  100] | d_loss: 1.2819 | g_loss: 0.9774\n",
      "Epoch [   87/  100] | d_loss: 1.1294 | g_loss: 1.2433\n",
      "Epoch [   87/  100] | d_loss: 1.3538 | g_loss: 1.3092\n",
      "Epoch [   88/  100] | d_loss: 1.3053 | g_loss: 1.1474\n",
      "Epoch [   88/  100] | d_loss: 1.0537 | g_loss: 0.9997\n",
      "Epoch [   88/  100] | d_loss: 1.3240 | g_loss: 0.8439\n",
      "Epoch [   89/  100] | d_loss: 1.2134 | g_loss: 1.2702\n",
      "Epoch [   89/  100] | d_loss: 1.2183 | g_loss: 1.3860\n",
      "Epoch [   89/  100] | d_loss: 1.3597 | g_loss: 1.0441\n",
      "Epoch [   90/  100] | d_loss: 1.2405 | g_loss: 1.0579\n",
      "Epoch [   90/  100] | d_loss: 1.2712 | g_loss: 1.2899\n",
      "Epoch [   90/  100] | d_loss: 1.3880 | g_loss: 1.1600\n",
      "Epoch [   91/  100] | d_loss: 1.2909 | g_loss: 0.7717\n",
      "Epoch [   91/  100] | d_loss: 1.2614 | g_loss: 1.0443\n",
      "Epoch [   91/  100] | d_loss: 1.4295 | g_loss: 1.0385\n",
      "Epoch [   92/  100] | d_loss: 1.3684 | g_loss: 1.2502\n",
      "Epoch [   92/  100] | d_loss: 1.0486 | g_loss: 1.4150\n",
      "Epoch [   92/  100] | d_loss: 1.2301 | g_loss: 1.3190\n",
      "Epoch [   93/  100] | d_loss: 1.3189 | g_loss: 1.5403\n",
      "Epoch [   93/  100] | d_loss: 1.1822 | g_loss: 1.0983\n",
      "Epoch [   93/  100] | d_loss: 1.3257 | g_loss: 1.3184\n",
      "Epoch [   94/  100] | d_loss: 1.2230 | g_loss: 0.9888\n",
      "Epoch [   94/  100] | d_loss: 1.2046 | g_loss: 1.0879\n",
      "Epoch [   94/  100] | d_loss: 1.3819 | g_loss: 1.1319\n",
      "Epoch [   95/  100] | d_loss: 1.2889 | g_loss: 1.8692\n",
      "Epoch [   95/  100] | d_loss: 1.2209 | g_loss: 0.9929\n",
      "Epoch [   95/  100] | d_loss: 1.3295 | g_loss: 1.0156\n",
      "Epoch [   96/  100] | d_loss: 1.3017 | g_loss: 1.0788\n",
      "Epoch [   96/  100] | d_loss: 1.1409 | g_loss: 1.8975\n",
      "Epoch [   96/  100] | d_loss: 1.3518 | g_loss: 1.0841\n",
      "Epoch [   97/  100] | d_loss: 1.2614 | g_loss: 1.3395\n",
      "Epoch [   97/  100] | d_loss: 1.3071 | g_loss: 0.9299\n",
      "Epoch [   97/  100] | d_loss: 1.2631 | g_loss: 1.2373\n",
      "Epoch [   98/  100] | d_loss: 1.1489 | g_loss: 1.3668\n",
      "Epoch [   98/  100] | d_loss: 1.1888 | g_loss: 1.3154\n",
      "Epoch [   98/  100] | d_loss: 1.4495 | g_loss: 1.2183\n",
      "Epoch [   99/  100] | d_loss: 1.2321 | g_loss: 1.6207\n",
      "Epoch [   99/  100] | d_loss: 1.1158 | g_loss: 1.2063\n",
      "Epoch [   99/  100] | d_loss: 1.2992 | g_loss: 0.9809\n",
      "Epoch [  100/  100] | d_loss: 1.1659 | g_loss: 1.4853\n",
      "Epoch [  100/  100] | d_loss: 1.1812 | g_loss: 1.0190\n",
      "Epoch [  100/  100] | d_loss: 1.3713 | g_loss: 1.0091\n"
     ]
    }
   ],
   "source": [
    "import pickle as pkl\n",
    "#from helpers import save_samples\n",
    "\n",
    "# training hyperparams\n",
    "num_epochs = 100\n",
    "\n",
    "# keep track of loss and generated, \"fake\" samples\n",
    "samples = []\n",
    "losses = []\n",
    "\n",
    "print_every = 400\n",
    "\n",
    "# Get some fixed data for sampling. These are images that are held\n",
    "# constant throughout training, and allow us to inspect the model's performance\n",
    "sample_size=16\n",
    "fixed_z = np.random.uniform(-1, 1, size=(sample_size, z_size))\n",
    "fixed_z = torch.from_numpy(fixed_z).float()\n",
    "\n",
    "# train the network\n",
    "D.train()\n",
    "G.train()\n",
    "for epoch in range(num_epochs):\n",
    "    \n",
    "    for batch_i, (real_images, _) in enumerate(train_loader):\n",
    "                \n",
    "        batch_size = real_images.size(0)\n",
    "        \n",
    "        ## Important rescaling step ## \n",
    "        real_images = real_images*2 - 1  # rescale input images from [0,1) to [-1, 1)\n",
    "        \n",
    "        # ============================================\n",
    "        #            TRAIN THE DISCRIMINATOR\n",
    "        # ============================================\n",
    "          \n",
    "        d_optimizer.zero_grad()\n",
    "        \n",
    "        # 1. Train with real images\n",
    "\n",
    "        # Compute the discriminator losses on real images\n",
    "        # use smoothed labels\n",
    "        D_real = D(real_images)\n",
    "        d_real_loss = real_loss(D_real, smooth=True)\n",
    "        \n",
    "        # 2. Train with fake images\n",
    "        \n",
    "        # Generate fake images\n",
    "        z = np.random.uniform(-1, 1, size=(batch_size, z_size))\n",
    "        z = torch.from_numpy(z).float()\n",
    "        fake_images = G(z)\n",
    "        \n",
    "        # Compute the discriminator losses on fake images        \n",
    "        D_fake = D(fake_images)\n",
    "        d_fake_loss = fake_loss(D_fake)\n",
    "        \n",
    "        # add up real and fake losses and perform backprop\n",
    "        d_loss = d_real_loss + d_fake_loss\n",
    "        d_loss.backward()\n",
    "        d_optimizer.step()\n",
    "        \n",
    "        \n",
    "        # =========================================\n",
    "        #            TRAIN THE GENERATOR\n",
    "        # =========================================\n",
    "        g_optimizer.zero_grad()\n",
    "        \n",
    "        # 1. Train with fake images and flipped labels\n",
    "        \n",
    "        # Generate fake images\n",
    "        z = np.random.uniform(-1, 1, size=(batch_size, z_size))\n",
    "        z = torch.from_numpy(z).float()\n",
    "        fake_images = G(z)\n",
    "        \n",
    "        # Compute the discriminator losses on fake images \n",
    "        # using flipped labels!\n",
    "        D_fake = D(fake_images)\n",
    "        g_loss = real_loss(D_fake) # use real loss to flip labels\n",
    "        \n",
    "        # perform backprop\n",
    "        g_loss.backward()\n",
    "        g_optimizer.step()\n",
    "        \n",
    "\n",
    "        # Print some loss stats\n",
    "        if batch_i % print_every == 0:\n",
    "            # print discriminator and generator loss\n",
    "            print('Epoch [{:5d}/{:5d}] | d_loss: {:6.4f} | g_loss: {:6.4f}'.format(\n",
    "                    epoch+1, num_epochs, d_loss.item(), g_loss.item()))\n",
    "\n",
    "    \n",
    "    ## AFTER EACH EPOCH##\n",
    "    # append discriminator loss and generator loss\n",
    "    losses.append((d_loss.item(), g_loss.item()))\n",
    "    \n",
    "    # generate and save sample, fake images\n",
    "    G.eval() # eval mode for generating samples\n",
    "    samples_z = G(fixed_z)\n",
    "    samples.append(samples_z)\n",
    "    G.train() # back to train mode\n",
    "\n",
    "\n",
    "# Save training generator samples\n",
    "with open('train_samples.pkl', 'wb') as f:\n",
    "    pkl.dump(samples, f)"
   ]
  },
  {
   "cell_type": "markdown",
   "metadata": {},
   "source": [
    "## Training loss\n",
    "\n",
    "Here we'll plot the training losses for the generator and discriminator, recorded after each epoch."
   ]
  },
  {
   "cell_type": "code",
   "execution_count": 29,
   "metadata": {},
   "outputs": [
    {
     "data": {
      "text/plain": [
       "<matplotlib.legend.Legend at 0x7fd875a0ca58>"
      ]
     },
     "execution_count": 29,
     "metadata": {},
     "output_type": "execute_result"
    },
    {
     "data": {
      "image/png": "[encoded data removed]",
      "text/plain": [
       "<matplotlib.figure.Figure at 0x7fd8721abd30>"
      ]
     },
     "metadata": {
      "needs_background": "light"
     },
     "output_type": "display_data"
    }
   ],
   "source": [
    "fig, ax = plt.subplots()\n",
    "losses = np.array(losses)\n",
    "plt.plot(losses.T[0], label='Discriminator')\n",
    "plt.plot(losses.T[1], label='Generator')\n",
    "plt.title(\"Training Losses\")\n",
    "plt.legend()"
   ]
  },
  {
   "cell_type": "markdown",
   "metadata": {},
   "source": [
    "## Generator samples from training\n",
    "\n",
    "Here we can view samples of images from the generator. First we'll look at the images we saved during training."
   ]
  },
  {
   "cell_type": "code",
   "execution_count": 30,
   "metadata": {},
   "outputs": [],
   "source": [
    "# helper function for viewing a list of passed in sample images\n",
    "def view_samples(epoch, samples):\n",
    "    fig, axes = plt.subplots(figsize=(7,7), nrows=4, ncols=4, sharey=True, sharex=True)\n",
    "    for ax, img in zip(axes.flatten(), samples[epoch]):\n",
    "        img = img.detach()\n",
    "        ax.xaxis.set_visible(False)\n",
    "        ax.yaxis.set_visible(False)\n",
    "        im = ax.imshow(img.reshape((28,28)), cmap='Greys_r')"
   ]
  },
  {
   "cell_type": "code",
   "execution_count": 31,
   "metadata": {},
   "outputs": [],
   "source": [
    "# Load samples from generator, taken while training\n",
    "with open('train_samples.pkl', 'rb') as f:\n",
    "    samples = pkl.load(f)"
   ]
  },
  {
   "cell_type": "markdown",
   "metadata": {},
   "source": [
    "These are samples from the final training epoch. You can see the generator is able to reproduce numbers like 1, 7, 3, 2. Since this is just a sample, it isn't representative of the full range of images this generator can make."
   ]
  },
  {
   "cell_type": "code",
   "execution_count": 32,
   "metadata": {},
   "outputs": [
    {
     "data": {
      "image/png": "[encoded data removed]",
      "text/plain": [
       "<matplotlib.figure.Figure at 0x7fd86bebd9b0>"
      ]
     },
     "metadata": {
      "needs_background": "light"
     },
     "output_type": "display_data"
    }
   ],
   "source": [
    "# -1 indicates final epoch's samples (the last in the list)\n",
    "view_samples(-1, samples)"
   ]
  },
  {
   "cell_type": "markdown",
   "metadata": {},
   "source": [
    "Below I'm showing the generated images as the network was training, every 10 epochs."
   ]
  },
  {
   "cell_type": "code",
   "execution_count": 33,
   "metadata": {},
   "outputs": [
    {
     "data": {
      "image/png": "[encoded data removed]",
      "text/plain": [
       "<matplotlib.figure.Figure at 0x7fd8710b2e48>"
      ]
     },
     "metadata": {
      "needs_background": "light"
     },
     "output_type": "display_data"
    }
   ],
   "source": [
    "rows = 10 # split epochs into 10, so 100/10 = every 10 epochs\n",
    "cols = 6\n",
    "fig, axes = plt.subplots(figsize=(7,12), nrows=rows, ncols=cols, sharex=True, sharey=True)\n",
    "\n",
    "for sample, ax_row in zip(samples[::int(len(samples)/rows)], axes):\n",
    "    for img, ax in zip(sample[::int(len(sample)/cols)], ax_row):\n",
    "        img = img.detach()\n",
    "        ax.imshow(img.reshape((28,28)), cmap='Greys_r')\n",
    "        ax.xaxis.set_visible(False)\n",
    "        ax.yaxis.set_visible(False)"
   ]
  },
  {
   "cell_type": "markdown",
   "metadata": {},
   "source": [
    "It starts out as all noise. Then it learns to make only the center white and the rest black. You can start to see some number like structures appear out of the noise like 1s and 9s."
   ]
  },
  {
   "cell_type": "markdown",
   "metadata": {},
   "source": [
    "## Sampling from the generator\n",
    "\n",
    "We can also get completely new images from the generator by using the checkpoint we saved after training. **We just need to pass in a new latent vector $z$ and we'll get new samples**!"
   ]
  },
  {
   "cell_type": "code",
   "execution_count": 34,
   "metadata": {},
   "outputs": [
    {
     "data": {
      "image/png": "[encoded data removed]",
      "text/plain": [
       "<matplotlib.figure.Figure at 0x7fd8703e37f0>"
      ]
     },
     "metadata": {
      "needs_background": "light"
     },
     "output_type": "display_data"
    }
   ],
   "source": [
    "# randomly generated, new latent vectors\n",
    "sample_size=16\n",
    "rand_z = np.random.uniform(-1, 1, size=(sample_size, z_size))\n",
    "rand_z = torch.from_numpy(rand_z).float()\n",
    "\n",
    "G.eval() # eval mode\n",
    "# generated samples\n",
    "rand_images = G(rand_z)\n",
    "\n",
    "# 0 indicates the first set of samples in the passed in list\n",
    "# and we only have one batch of samples, here\n",
    "view_samples(0, [rand_images])"
   ]
  }
 ],
 "metadata": {
  "kernelspec": {
   "display_name": "Python 3",
   "language": "python",
   "name": "python3"
  },
  "language_info": {
   "codemirror_mode": {
    "name": "ipython",
    "version": 3
   },
   "file_extension": ".py",
   "mimetype": "text/x-python",
   "name": "python",
   "nbconvert_exporter": "python",
   "pygments_lexer": "ipython3",
   "version": "3.6.3"
  }
 },
 "nbformat": 4,
 "nbformat_minor": 2
}
